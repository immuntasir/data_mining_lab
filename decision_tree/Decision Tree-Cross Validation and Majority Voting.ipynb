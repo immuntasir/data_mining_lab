{
 "cells": [
  {
   "cell_type": "code",
   "execution_count": 11,
   "metadata": {},
   "outputs": [],
   "source": [
    "import pandas as pd\n",
    "import numpy as np\n",
    "import math\n",
    "from sklearn.model_selection import train_test_split"
   ]
  },
  {
   "cell_type": "code",
   "execution_count": 12,
   "metadata": {},
   "outputs": [],
   "source": [
    "dataset = '../Dataset/Car/car'\n",
    "#dataset = '../Dataset/Balance-sheet/train.txt'\n",
    "#dataset = '../Dataset/Hayes-Roth/Hayes-Roth'\n",
    "#dataset = '../Dataset/Heart-Data/train.txt'\n",
    "#dataset = '../Dataset/TicTacToe/tic tac toe'\n",
    "DATASET_SPLIT_RATIO = .1\n",
    "np.random.seed(2)"
   ]
  },
  {
   "cell_type": "code",
   "execution_count": 13,
   "metadata": {},
   "outputs": [],
   "source": [
    "class DecisionTreeClassifier:\n",
    "    def __init__(self):\n",
    "        self.number_of_nodes = 1\n",
    "        self.root_node = 0\n",
    "        self.node_identity = [-1]\n",
    "        self.node_edge = [-1]\n",
    "        self.node_edge_dict = [-1]\n",
    "        self.mx_identity= [-1]\n",
    "\n",
    "    def select_feature(self, data):\n",
    "        list_of_features = list(data)\n",
    "        list_of_labels = np.unique(data[list_of_features[-1]], return_counts=True)[0]\n",
    "        label_count = np.unique(data[list_of_features[-1]], return_counts=True)[1]\n",
    "        total_number_of_rows = len(data)\n",
    "        entropy = 0\n",
    "        for i in range(0, len(list_of_labels)):\n",
    "            entropy = entropy + (- label_count[i]/total_number_of_rows) * (math.log2(label_count[i]/total_number_of_rows))\n",
    "            # Total numer of rows in the entire dataset or the number of rows in the current node?\n",
    "        #print('Entropy:', entropy)\n",
    "\n",
    "        mx_gain_ratio = -1\n",
    "        mx_idx = -1\n",
    "\n",
    "        for i in range(0, len(list_of_features) - 1):\n",
    "            # calculate information gain of i-th feature using the labels on data[list_of_features[-1]]\n",
    "            list_of_possible_values = np.unique(data[list_of_features[i]], return_counts=True)[0]\n",
    "            count_values = np.unique(data[list_of_features[i]], return_counts=True)[1]\n",
    "            total_values = sum(count_values)\n",
    "            information = 0\n",
    "            split_info = 0\n",
    "            #print(list_of_possible_values)\n",
    "            #print(count_values)\n",
    "            for j in range(len(list_of_possible_values)):\n",
    "                information_label = 0\n",
    "                for k in range(len(list_of_labels)):\n",
    "                    denominator = len(data[(data[list_of_features[i]] == list_of_possible_values[j]) & (data[list(data)[-1]] == list_of_labels[k])])          \n",
    "                    if denominator == 0:\n",
    "                        continue\n",
    "                    information_label = information_label + (- denominator / count_values[j]) * math.log2(denominator / count_values[j])\n",
    "                information = information + information_label * (count_values[j]/total_values)\n",
    "                split_info = split_info +  -(count_values[j]/total_values) * math.log2(count_values[j]/total_values)\n",
    "\n",
    "            information_gain = entropy - information\n",
    "            #split_info = 1\n",
    "            gain_ratio = information_gain / split_info\n",
    "            #print('Feature', i, ':', information_gain, split_info, gain_ratio)\n",
    "            if gain_ratio > mx_gain_ratio:\n",
    "                mx_gain_ratio = gain_ratio\n",
    "                mx_idx = i\n",
    "\n",
    "            #print('Feature', i, ':', information)\n",
    "            #print('Feature', i, ':', information_gain)\n",
    "\n",
    "        return mx_idx\n",
    "    def train(self, node, data):\n",
    "        list_of_features = list(data)\n",
    "        list_of_labels = np.unique(data[list_of_features[-1]], return_counts=True)[0]\n",
    "        list_of_labels_count = np.unique(data[list_of_features[-1]], return_counts=True)[1]\n",
    "        if len(list_of_labels) == 1:\n",
    "            self.node_identity[node] = list_of_labels[0]\n",
    "            return\n",
    "        majority_idx = np.argmax(list_of_labels_count)\n",
    "        self.mx_identity[node] = list_of_labels[majority_idx]\n",
    "        if len(list(data)) == 1:\n",
    "            majority_idx = np.argmax(list_of_labels_count)\n",
    "            self.node_identity[node] = list_of_labels[majority_idx] \n",
    "            return\n",
    "\n",
    "        mx_idx = self.select_feature(data)\n",
    "        #print(node, mx_idx)\n",
    "        remaining_features = list_of_features[0:mx_idx] + list_of_features[mx_idx+1: ]\n",
    "        #print('Selected feature:', mx_idx)\n",
    "        #print('Remaining_features:', remaining_features)\n",
    "        list_of_possible_values = np.unique(data[list_of_features[mx_idx]])\n",
    "        self.node_edge[node] = list_of_features[mx_idx]\n",
    "        self.node_edge_dict[node] = {}    \n",
    "        for label in list_of_possible_values:\n",
    "            new_data_frame = data[data[list_of_features[mx_idx]] == label][remaining_features]\n",
    "            if len(new_data_frame) == 0:\n",
    "                continue\n",
    "            new_node = self.number_of_nodes\n",
    "            self.node_edge_dict[node][label] = new_node\n",
    "            self.node_identity.append(-1)\n",
    "            self.node_edge.append(-1)\n",
    "            self.node_edge_dict.append(-1)\n",
    "            self.mx_identity.append(-1)\n",
    "            self.number_of_nodes += 1\n",
    "            self.train(new_node, new_data_frame)\n",
    "        return \n",
    "    def predict(self, data):\n",
    "        cur_node = 0\n",
    "        while self.node_identity[cur_node] == -1:\n",
    "            try:\n",
    "                cur_node = self.node_edge_dict[cur_node][data[self.node_edge[cur_node]].values[0]]\n",
    "            except:\n",
    "                return self.mx_identity[cur_node]\n",
    "        return self.node_identity[cur_node]\n",
    "    def test(self, test):\n",
    "        right_predictions = 0\n",
    "        for i in range(len(test)):\n",
    "            if self.predict(test[i:i+1]) == test[i:i+1][list(test)[-1]].values[0]:\n",
    "                right_predictions+=1\n",
    "        return round(right_predictions/len(test) * 100, 2)"
   ]
  },
  {
   "cell_type": "code",
   "execution_count": 14,
   "metadata": {},
   "outputs": [],
   "source": [
    "def cross_validation(dataframe):\n",
    "    decision_tree_classifier = DecisionTreeClassifier()\n",
    "    accuracies = []\n",
    "    data_in_a_single_fold = int(np.ceil(max(10, len(dataframe)/10)))\n",
    "    #data_in_a_single_fold = int(np.ceil(.1*len(dataframe)))\n",
    "    number_of_folds = int(np.ceil(len(dataframe)/data_in_a_single_fold))\n",
    "    print('Number of folds:', number_of_folds)\n",
    "    print('Number of rows in a single fold:', data_in_a_single_fold)\n",
    "    for i in range(number_of_folds):\n",
    "        print(min((i)*data_in_a_single_fold, len(dataframe)), 'bal')\n",
    "        a = dataframe.iloc[0 : min((i)*data_in_a_single_fold, len(dataframe))]\n",
    "        try:\n",
    "            print('min', min((i+1) * data_in_a_single_fold, len(dataframe)))\n",
    "            b = dataframe.iloc[min((i+1) * data_in_a_single_fold, len(dataframe)) :  len(dataframe)]\n",
    "            print(b.head())\n",
    "            train = pd.concat(a, b).reset_index().drop(columns = 'index')\n",
    "            b.reset_index().drop(columns = 'index')\n",
    "            print('haha', train.head())\n",
    "        except:\n",
    "            if len(a) == 0:\n",
    "                train = b\n",
    "            else:\n",
    "                train = a\n",
    "        \n",
    "        test = dataframe.iloc[i * data_in_a_single_fold : min((i+1)*data_in_a_single_fold, len(dataframe))].reset_index().drop(columns = 'index')\n",
    "        print('Number of training samples:', len(train))\n",
    "        print('Number of test samples:', len(test))\n",
    "        print('Labels:', np.unique(train[list(dataframe)[-1]]))\n",
    "        decision_tree_classifier.train(0, train)    \n",
    "        accuracies.append(decision_tree_classifier.test(test))\n",
    "    return accuracies"
   ]
  },
  {
   "cell_type": "code",
   "execution_count": 15,
   "metadata": {},
   "outputs": [
    {
     "name": "stdout",
     "output_type": "stream",
     "text": [
      "Number of folds: 10\n",
      "Number of rows in a single fold: 173\n",
      "0 bal\n",
      "min 173\n",
      "          0      1      2     3      4     5      6\n",
      "1084    med    med      2     2    med   med  unacc\n",
      "83    vhigh  vhigh  5more     2  small  high  unacc\n",
      "1443    low   high      3     4    med   low  unacc\n",
      "1310    low  vhigh      2     4    med  high    acc\n",
      "1048    med   high      4  more    med   med    acc\n",
      "Number of training samples: 1555\n",
      "Number of test samples: 173\n",
      "Labels: ['acc' 'good' 'unacc' 'vgood']\n",
      "173 bal\n",
      "min 346\n",
      "         0     1  2     3    4     5      6\n",
      "599   high  high  4     2  med  high  unacc\n",
      "678   high   med  3     2  med   low  unacc\n",
      "728   high   med  4  more  big  high    acc\n",
      "1043   med  high  4     4  big  high    acc\n",
      "787   high   low  3     2  med   med  unacc\n",
      "Number of training samples: 173\n",
      "Number of test samples: 173\n",
      "Labels: ['acc' 'good' 'unacc' 'vgood']\n",
      "346 bal\n",
      "min 519\n",
      "          0      1  2  3      4     5      6\n",
      "568    high   high  3  2  small   med  unacc\n",
      "70    vhigh  vhigh  4  4    big   med  unacc\n",
      "367   vhigh    low  3  4    big   med    acc\n",
      "1436    low   high  3  2    med  high  unacc\n",
      "928     med  vhigh  4  4  small   med  unacc\n",
      "Number of training samples: 346\n",
      "Number of test samples: 173\n",
      "Labels: ['acc' 'good' 'unacc' 'vgood']\n"
     ]
    },
    {
     "name": "stderr",
     "output_type": "stream",
     "text": [
      "/home/immuntasir/.local/lib/python3.6/site-packages/ipykernel_launcher.py:45: RuntimeWarning: invalid value encountered in double_scalars\n"
     ]
    },
    {
     "name": "stdout",
     "output_type": "stream",
     "text": [
      "519 bal\n",
      "min 692\n",
      "         0      1      2     3      4    5      6\n",
      "523   high  vhigh  5more     4  small  med  unacc\n",
      "721   high    med      4  more  small  med  unacc\n",
      "1150   med    med      4     4    big  med    acc\n",
      "1303   low  vhigh      2     2    big  med  unacc\n",
      "682   high    med      3     2    big  med  unacc\n",
      "Number of training samples: 519\n",
      "Number of test samples: 173\n",
      "Labels: ['acc' 'good' 'unacc' 'vgood']\n",
      "692 bal\n",
      "min 865\n",
      "         0      1      2     3    4     5      6\n",
      "897    med  vhigh      3     2  big   low  unacc\n",
      "552   high   high      2     4  med   low  unacc\n",
      "511   high  vhigh      4  more  big   med  unacc\n",
      "745   high    med  5more     4  big   med    acc\n",
      "1583   low    med      4     4  big  high  vgood\n",
      "Number of training samples: 692\n",
      "Number of test samples: 173\n",
      "Labels: ['acc' 'good' 'unacc' 'vgood']\n",
      "865 bal\n",
      "min 1038\n",
      "         0      1      2     3      4     5      6\n",
      "971    med  vhigh  5more  more    big  high    acc\n",
      "710   high    med      4     2    big  high  unacc\n",
      "1062   med   high  5more     4  small   low  unacc\n",
      "1061   med   high  5more     2    big  high  unacc\n",
      "669   high    med      2  more    med   low  unacc\n",
      "Number of training samples: 865\n",
      "Number of test samples: 173\n",
      "Labels: ['acc' 'good' 'unacc' 'vgood']\n",
      "1038 bal\n",
      "min 1211\n",
      "          0      1      2     3      4     5      6\n",
      "657    high    med      2     4  small   low  unacc\n",
      "449    high  vhigh      2     4    big  high  unacc\n",
      "578    high   high      3     4  small  high    acc\n",
      "1076    med   high  5more  more    med  high    acc\n",
      "302   vhigh    med  5more     2    med  high  unacc\n",
      "Number of training samples: 1038\n",
      "Number of test samples: 173\n",
      "Labels: ['acc' 'good' 'unacc' 'vgood']\n",
      "1211 bal\n",
      "min 1384\n",
      "          0     1      2     3      4     5      6\n",
      "306   vhigh   med  5more     4  small   low  unacc\n",
      "415   vhigh   low  5more     4  small   med  unacc\n",
      "1682    low   low      4     2    big  high  unacc\n",
      "1460    low  high      4     2  small  high  unacc\n",
      "428   vhigh   low  5more  more    med  high    acc\n",
      "Number of training samples: 1211\n",
      "Number of test samples: 173\n",
      "Labels: ['acc' 'good' 'unacc' 'vgood']\n",
      "1384 bal\n",
      "min 1557\n",
      "          0      1      2     3      4     5      6\n",
      "1698    low    low      4  more    big   low  unacc\n",
      "348   vhigh    low      2  more    big   low  unacc\n",
      "509    high  vhigh      4  more    med  high  unacc\n",
      "211   vhigh   high  5more  more    med   med  unacc\n",
      "703    high    med      4     2  small   med  unacc\n",
      "Number of training samples: 1384\n",
      "Number of test samples: 173\n",
      "Labels: ['acc' 'good' 'unacc' 'vgood']\n",
      "1557 bal\n",
      "min 1728\n",
      "Empty DataFrame\n",
      "Columns: [0, 1, 2, 3, 4, 5, 6]\n",
      "Index: []\n",
      "Number of training samples: 1557\n",
      "Number of test samples: 171\n",
      "Labels: ['acc' 'good' 'unacc' 'vgood']\n",
      "Accuracies: [95.95, 76.3, 86.13, 88.44, 91.91, 91.91, 97.11, 92.49, 91.91, 92.4]\n",
      "Average accuracy: 90.46\n"
     ]
    }
   ],
   "source": [
    "dataframe = pd.read_csv(dataset, header=None)\n",
    "dataframe = dataframe.sample(frac=1)\n",
    "accuracies = cross_validation(dataframe)\n",
    "print('Accuracies:', accuracies)\n",
    "print('Average accuracy:', round(np.mean(accuracies), 2))"
   ]
  },
  {
   "cell_type": "code",
   "execution_count": 16,
   "metadata": {},
   "outputs": [
    {
     "data": {
      "text/html": [
       "<div>\n",
       "<style scoped>\n",
       "    .dataframe tbody tr th:only-of-type {\n",
       "        vertical-align: middle;\n",
       "    }\n",
       "\n",
       "    .dataframe tbody tr th {\n",
       "        vertical-align: top;\n",
       "    }\n",
       "\n",
       "    .dataframe thead th {\n",
       "        text-align: right;\n",
       "    }\n",
       "</style>\n",
       "<table border=\"1\" class=\"dataframe\">\n",
       "  <thead>\n",
       "    <tr style=\"text-align: right;\">\n",
       "      <th></th>\n",
       "      <th>0</th>\n",
       "      <th>1</th>\n",
       "      <th>2</th>\n",
       "      <th>3</th>\n",
       "      <th>4</th>\n",
       "      <th>5</th>\n",
       "      <th>6</th>\n",
       "    </tr>\n",
       "  </thead>\n",
       "  <tbody>\n",
       "  </tbody>\n",
       "</table>\n",
       "</div>"
      ],
      "text/plain": [
       "Empty DataFrame\n",
       "Columns: [0, 1, 2, 3, 4, 5, 6]\n",
       "Index: []"
      ]
     },
     "execution_count": 16,
     "metadata": {},
     "output_type": "execute_result"
    }
   ],
   "source": [
    "dataframe.iloc[0:0]"
   ]
  },
  {
   "cell_type": "code",
   "execution_count": null,
   "metadata": {
    "scrolled": true
   },
   "outputs": [],
   "source": []
  },
  {
   "cell_type": "code",
   "execution_count": null,
   "metadata": {},
   "outputs": [],
   "source": []
  },
  {
   "cell_type": "code",
   "execution_count": 7,
   "metadata": {},
   "outputs": [],
   "source": [
    "#train, test = train_test_split(dataframe, test_size=DATASET_SPLIT_RATIO)\n",
    "#print('Accuacy:', str(  round(right_predictions/len(test) * 100, 2)) + '%' )"
   ]
  },
  {
   "cell_type": "code",
   "execution_count": 8,
   "metadata": {},
   "outputs": [
    {
     "name": "stdout",
     "output_type": "stream",
     "text": [
      "1728\n"
     ]
    }
   ],
   "source": [
    "print(len(dataframe))"
   ]
  },
  {
   "cell_type": "code",
   "execution_count": 9,
   "metadata": {},
   "outputs": [
    {
     "ename": "NameError",
     "evalue": "name 'train' is not defined",
     "output_type": "error",
     "traceback": [
      "\u001b[0;31m---------------------------------------------------------------------------\u001b[0m",
      "\u001b[0;31mNameError\u001b[0m                                 Traceback (most recent call last)",
      "\u001b[0;32m<ipython-input-9-b73368fa23c7>\u001b[0m in \u001b[0;36m<module>\u001b[0;34m\u001b[0m\n\u001b[0;32m----> 1\u001b[0;31m \u001b[0mtrain\u001b[0m\u001b[0;34m.\u001b[0m\u001b[0mhead\u001b[0m\u001b[0;34m(\u001b[0m\u001b[0;34m)\u001b[0m\u001b[0;34m\u001b[0m\u001b[0m\n\u001b[0m\u001b[1;32m      2\u001b[0m \u001b[0mprint\u001b[0m\u001b[0;34m(\u001b[0m\u001b[0;34m'Number of training samples:'\u001b[0m\u001b[0;34m,\u001b[0m \u001b[0mlen\u001b[0m\u001b[0;34m(\u001b[0m\u001b[0mtrain\u001b[0m\u001b[0;34m)\u001b[0m\u001b[0;34m)\u001b[0m\u001b[0;34m\u001b[0m\u001b[0m\n\u001b[1;32m      3\u001b[0m \u001b[0mprint\u001b[0m\u001b[0;34m(\u001b[0m\u001b[0;34m'Number of test samples:'\u001b[0m\u001b[0;34m,\u001b[0m \u001b[0mlen\u001b[0m\u001b[0;34m(\u001b[0m\u001b[0mtest\u001b[0m\u001b[0;34m)\u001b[0m\u001b[0;34m)\u001b[0m\u001b[0;34m\u001b[0m\u001b[0m\n\u001b[1;32m      4\u001b[0m \u001b[0mprint\u001b[0m\u001b[0;34m(\u001b[0m\u001b[0;34m'Labels:'\u001b[0m\u001b[0;34m,\u001b[0m \u001b[0mnp\u001b[0m\u001b[0;34m.\u001b[0m\u001b[0munique\u001b[0m\u001b[0;34m(\u001b[0m\u001b[0mtrain\u001b[0m\u001b[0;34m[\u001b[0m\u001b[0mlist\u001b[0m\u001b[0;34m(\u001b[0m\u001b[0mdataframe\u001b[0m\u001b[0;34m)\u001b[0m\u001b[0;34m[\u001b[0m\u001b[0;34m-\u001b[0m\u001b[0;36m1\u001b[0m\u001b[0;34m]\u001b[0m\u001b[0;34m]\u001b[0m\u001b[0;34m)\u001b[0m\u001b[0;34m)\u001b[0m\u001b[0;34m\u001b[0m\u001b[0m\n",
      "\u001b[0;31mNameError\u001b[0m: name 'train' is not defined"
     ]
    }
   ],
   "source": [
    "train.head()\n",
    "print('Number of training samples:', len(train))\n",
    "print('Number of test samples:', len(test))\n",
    "print('Labels:', np.unique(train[list(dataframe)[-1]]))"
   ]
  },
  {
   "cell_type": "markdown",
   "metadata": {},
   "source": [
    "Car Dataset: 93.06%\n",
    "Balance Sheet: 26.98%\n",
    "Hayes-Roth: 50.0%\n",
    "Heart Data: 89.47%\n",
    "TicTacToe: 85.42%"
   ]
  }
 ],
 "metadata": {
  "kernelspec": {
   "display_name": "Python 3",
   "language": "python",
   "name": "python3"
  },
  "language_info": {
   "codemirror_mode": {
    "name": "ipython",
    "version": 3
   },
   "file_extension": ".py",
   "mimetype": "text/x-python",
   "name": "python",
   "nbconvert_exporter": "python",
   "pygments_lexer": "ipython3",
   "version": "3.6.6"
  }
 },
 "nbformat": 4,
 "nbformat_minor": 2
}
