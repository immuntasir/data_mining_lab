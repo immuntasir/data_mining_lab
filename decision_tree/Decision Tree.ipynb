{
 "cells": [
  {
   "cell_type": "code",
   "execution_count": 1,
   "metadata": {},
   "outputs": [],
   "source": [
    "import pandas as pd\n",
    "import numpy as np\n",
    "import math\n",
    "from sklearn.model_selection import train_test_split"
   ]
  },
  {
   "cell_type": "code",
   "execution_count": 2,
   "metadata": {},
   "outputs": [],
   "source": [
    "dataset = '../Dataset/Car/car'\n",
    "#dataset = '../Dataset/Balance-sheet/train.txt'\n",
    "#dataset = '../Dataset/Hayes-Roth/Hayes-Roth'\n",
    "#dataset = '../Dataset/Heart-Data/train.txt'\n",
    "#dataset = '../Dataset/TicTacToe/tic tac toe'\n",
    "DATASET_SPLIT_RATIO = .1\n",
    "np.random.seed(2)"
   ]
  },
  {
   "cell_type": "code",
   "execution_count": 3,
   "metadata": {},
   "outputs": [],
   "source": [
    "dataframe = pd.read_csv(dataset, header=None)\n",
    "train, test = train_test_split(dataframe, test_size=DATASET_SPLIT_RATIO)"
   ]
  },
  {
   "cell_type": "code",
   "execution_count": 4,
   "metadata": {
    "scrolled": true
   },
   "outputs": [
    {
     "name": "stdout",
     "output_type": "stream",
     "text": [
      "Number of training samples: 1555\n",
      "Number of test samples: 173\n",
      "Labels: ['acc' 'good' 'unacc' 'vgood']\n"
     ]
    }
   ],
   "source": [
    "train.head()\n",
    "print('Number of training samples:', len(train))\n",
    "print('Number of test samples:', len(test))\n",
    "print('Labels:', np.unique(train[list(dataframe)[-1]]))"
   ]
  },
  {
   "cell_type": "code",
   "execution_count": 5,
   "metadata": {},
   "outputs": [],
   "source": [
    "def select_feature(data):\n",
    "    list_of_features = list(data)\n",
    "    list_of_labels = np.unique(data[list_of_features[-1]], return_counts=True)[0]\n",
    "    label_count = np.unique(data[list_of_features[-1]], return_counts=True)[1]\n",
    "    total_number_of_rows = len(data)\n",
    "    entropy = 0\n",
    "    for i in range(0, len(list_of_labels)):\n",
    "        entropy = entropy + (- label_count[i]/total_number_of_rows) * (math.log2(label_count[i]/total_number_of_rows))\n",
    "        # Total numer of rows in the entire dataset or the number of rows in the current node?\n",
    "    #print('Entropy:', entropy)\n",
    "\n",
    "    mx_gain_ratio = -1\n",
    "    mx_idx = -1\n",
    "\n",
    "    for i in range(0, len(list_of_features) - 1):\n",
    "        # calculate information gain of i-th feature using the labels on data[list_of_features[-1]]\n",
    "        list_of_possible_values = np.unique(data[list_of_features[i]], return_counts=True)[0]\n",
    "        count_values = np.unique(data[list_of_features[i]], return_counts=True)[1]\n",
    "        total_values = sum(count_values)\n",
    "        information = 0\n",
    "        split_info = 0\n",
    "        #print(list_of_possible_values)\n",
    "        #print(count_values)\n",
    "        for j in range(len(list_of_possible_values)):\n",
    "            information_label = 0\n",
    "            for k in range(len(list_of_labels)):\n",
    "                denominator = len(data[(data[list_of_features[i]] == list_of_possible_values[j]) & (data[list(data)[-1]] == list_of_labels[k])])          \n",
    "                if denominator == 0:\n",
    "                    continue\n",
    "                information_label = information_label + (- denominator / count_values[j]) * math.log2(denominator / count_values[j])\n",
    "            information = information + information_label * (count_values[j]/total_values)\n",
    "            split_info = split_info +  -(count_values[j]/total_values) * math.log2(count_values[j]/total_values)\n",
    "        \n",
    "        information_gain = entropy - information\n",
    "        #split_info = 1\n",
    "        gain_ratio = information_gain / split_info\n",
    "        #print('Feature', i, ':', information_gain, split_info, gain_ratio)\n",
    "        if gain_ratio > mx_gain_ratio:\n",
    "            mx_gain_ratio = gain_ratio\n",
    "            mx_idx = i\n",
    "\n",
    "        #print('Feature', i, ':', information)\n",
    "        #print('Feature', i, ':', information_gain)\n",
    "\n",
    "    return mx_idx"
   ]
  },
  {
   "cell_type": "code",
   "execution_count": 6,
   "metadata": {},
   "outputs": [
    {
     "data": {
      "text/plain": [
       "5"
      ]
     },
     "execution_count": 6,
     "metadata": {},
     "output_type": "execute_result"
    }
   ],
   "source": [
    "select_feature(dataframe)"
   ]
  },
  {
   "cell_type": "code",
   "execution_count": 7,
   "metadata": {},
   "outputs": [],
   "source": [
    "def make_decision_tree(node, data):\n",
    "    global number_of_nodes, node_identity, node_edge\n",
    "    list_of_features = list(data)\n",
    "    list_of_labels = np.unique(data[list_of_features[-1]], return_counts=True)[0]\n",
    "    list_of_labels_count = np.unique(data[list_of_features[-1]], return_counts=True)[1]\n",
    "    if len(list_of_labels) == 1:\n",
    "        node_identity[node] = list_of_labels[0]\n",
    "        return\n",
    "    if len(list(data)) == 1:\n",
    "        majority_idx = np.argmax(list_of_labels_count)\n",
    "        node_identity[node] = list_of_labels[majority_idx] \n",
    "        return\n",
    "    \n",
    "    mx_idx = select_feature(data)\n",
    "    #print(node, mx_idx)\n",
    "    remaining_features = list_of_features[0:mx_idx] + list_of_features[mx_idx+1: ]\n",
    "    #print('Selected feature:', mx_idx)\n",
    "    #print('Remaining_features:', remaining_features)\n",
    "    list_of_possible_values = np.unique(data[list_of_features[mx_idx]])\n",
    "    node_edge[node] = list_of_features[mx_idx]\n",
    "    node_edge_dict[node] = {}    \n",
    "    for label in list_of_possible_values:\n",
    "        new_data_frame = data[data[list_of_features[mx_idx]] == label][remaining_features]\n",
    "        if len(new_data_frame) == 0:\n",
    "            continue\n",
    "        new_node = number_of_nodes\n",
    "        node_edge_dict[node][label] = new_node\n",
    "        node_identity.append(-1)\n",
    "        node_edge.append(-1)\n",
    "        node_edge_dict.append(-1)\n",
    "        number_of_nodes += 1\n",
    "        make_decision_tree(new_node, new_data_frame)\n",
    "    return \n"
   ]
  },
  {
   "cell_type": "code",
   "execution_count": 8,
   "metadata": {},
   "outputs": [],
   "source": [
    "number_of_nodes = 1\n",
    "root_node = 0\n",
    "node_identity = [-1]\n",
    "node_edge = [-1]\n",
    "node_edge_dict = [-1]\n",
    "make_decision_tree(root_node, train)    "
   ]
  },
  {
   "cell_type": "code",
   "execution_count": 9,
   "metadata": {},
   "outputs": [
    {
     "data": {
      "text/plain": [
       "382"
      ]
     },
     "execution_count": 9,
     "metadata": {},
     "output_type": "execute_result"
    }
   ],
   "source": [
    "number_of_nodes"
   ]
  },
  {
   "cell_type": "code",
   "execution_count": 10,
   "metadata": {},
   "outputs": [],
   "source": [
    "def predict(data):\n",
    "    cur_node = 0\n",
    "    while node_identity[cur_node] == -1:\n",
    "        try:\n",
    "            cur_node = node_edge_dict[cur_node][data[node_edge[cur_node]].values[0]]\n",
    "        except:\n",
    "            return -1\n",
    "    return node_identity[cur_node]"
   ]
  },
  {
   "cell_type": "code",
   "execution_count": 11,
   "metadata": {},
   "outputs": [
    {
     "data": {
      "text/plain": [
       "'unacc'"
      ]
     },
     "execution_count": 11,
     "metadata": {},
     "output_type": "execute_result"
    }
   ],
   "source": [
    "predict(test[0:1])"
   ]
  },
  {
   "cell_type": "code",
   "execution_count": 12,
   "metadata": {},
   "outputs": [],
   "source": [
    "right_predictions = 0\n",
    "for i in range(len(test)):\n",
    "    if predict(test[i:i+1]) == test[i:i+1][list(test)[-1]].values[0]:\n",
    "        right_predictions+=1"
   ]
  },
  {
   "cell_type": "code",
   "execution_count": 13,
   "metadata": {},
   "outputs": [
    {
     "name": "stdout",
     "output_type": "stream",
     "text": [
      "Accuacy: 93.06%\n"
     ]
    }
   ],
   "source": [
    "print('Accuacy:', str(  round(right_predictions/len(test) * 100, 2)) + '%' )"
   ]
  },
  {
   "cell_type": "markdown",
   "metadata": {},
   "source": [
    "Car Dataset: 93.06%\n",
    "Balance Sheet: 26.98%\n",
    "Hayes-Roth: 50.0%\n",
    "Heart Data: 89.47%\n",
    "TicTacToe: 85.42%"
   ]
  }
 ],
 "metadata": {
  "kernelspec": {
   "display_name": "Python 3",
   "language": "python",
   "name": "python3"
  },
  "language_info": {
   "codemirror_mode": {
    "name": "ipython",
    "version": 3
   },
   "file_extension": ".py",
   "mimetype": "text/x-python",
   "name": "python",
   "nbconvert_exporter": "python",
   "pygments_lexer": "ipython3",
   "version": "3.6.6"
  }
 },
 "nbformat": 4,
 "nbformat_minor": 2
}
