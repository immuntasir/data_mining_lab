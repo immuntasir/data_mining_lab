{
 "cells": [
  {
   "cell_type": "code",
   "execution_count": 1,
   "metadata": {},
   "outputs": [],
   "source": [
    "import pandas as pd\n",
    "import numpy as np\n",
    "import math\n",
    "from sklearn.model_selection import train_test_split\n",
    "from sklearn.metrics import classification_report"
   ]
  },
  {
   "cell_type": "code",
   "execution_count": 2,
   "metadata": {},
   "outputs": [],
   "source": [
    "#dataset = '../Dataset/Car/car'\n",
    "#dataset = '../Dataset/Balance-sheet/train.txt'\n",
    "#dataset = '../Dataset/Hayes-Roth/Hayes-Roth'\n",
    "dataset = '../Dataset/Heart-Data/train.txt'\n",
    "#dataset = '../Dataset/TicTacToe/tic tac toe'\n",
    "#dataset = '../Dataset/adult.data'\n",
    "#dataset = '../Dataset/mush.data'\n",
    "#dataset = '../Dataset/nursery.data'\n",
    "DATASET_SPLIT_RATIO = .1\n",
    "np.random.seed(2)"
   ]
  },
  {
   "cell_type": "code",
   "execution_count": 3,
   "metadata": {},
   "outputs": [],
   "source": [
    "def clasification_report(y_true, y_pred, output_dict):\n",
    "    unique_labels = list(np.unique(y_true))\n",
    "    ret  = {}\n",
    "    ret['precision'] = 0\n",
    "    ret['recall'] = 0\n",
    "    ret['f1-measure'] = 0\n",
    "    div = 0\n",
    "    for label in unique_labels:\n",
    "        TP = np.sum((np.array(y_true) == label) & (np.array(y_true) == np.array(y_pred)))\n",
    "        TN = np.sum((np.array(y_true) != label) & (np.array(y_true) == np.array(y_pred)))\n",
    "        FP = np.sum((np.array(y_true) == label) & (np.array(y_true) != np.array(y_pred)))\n",
    "        FN = np.sum((np.array(y_true) != label) & (np.array(y_true) != np.array(y_pred)))\n",
    "        ret['precision'] += TP / (TP + FP) * (np.sum((np.array(y_true) == label)) / len(y_true))\n",
    "        ret['recall'] += TP / (TP+FN) * (np.sum((np.array(y_true) == label)) / len(y_true))\n",
    "        ret['f1-measure'] += 2 * ((ret['precision'] * ret['recall']) / (ret['precision'] + ret['recall'])) * (np.sum((np.array(y_true) == label)) / len(y_true))\n",
    "        div +=  (np.sum((np.array(y_true) == label)) / len(y_true))\n",
    "    ret['precision'] /= div\n",
    "    ret['recall'] /= div\n",
    "    ret['f1-measure'] /= div\n",
    "    return ret"
   ]
  },
  {
   "cell_type": "code",
   "execution_count": 4,
   "metadata": {},
   "outputs": [],
   "source": [
    "class DecisionTreeClassifier:\n",
    "    def __init__(self):\n",
    "        self.number_of_nodes = 1\n",
    "        self.root_node = 0\n",
    "        self.node_identity = [-1]\n",
    "        self.node_edge = [-1]\n",
    "        self.node_edge_dict = [-1]\n",
    "        self.mx_identity= [-1]\n",
    "\n",
    "    def select_feature(self, data):\n",
    "        list_of_features = list(data)\n",
    "        list_of_labels = np.unique(data[list_of_features[-1]], return_counts=True)[0]\n",
    "        label_count = np.unique(data[list_of_features[-1]], return_counts=True)[1]\n",
    "        total_number_of_rows = len(data)\n",
    "        entropy = 0\n",
    "        for i in range(0, len(list_of_labels)):\n",
    "            entropy = entropy + (- label_count[i]/total_number_of_rows) * (math.log2(label_count[i]/total_number_of_rows))\n",
    "            # Total numer of rows in the entire dataset or the number of rows in the current node?\n",
    "        #print('Entropy:', entropy)\n",
    "\n",
    "        mx_gain_ratio = -1\n",
    "        mx_idx = -1\n",
    "\n",
    "        for i in range(0, len(list_of_features) - 1):\n",
    "            # calculate information gain of i-th feature using the labels on data[list_of_features[-1]]\n",
    "            list_of_possible_values = np.unique(data[list_of_features[i]], return_counts=True)[0]\n",
    "            count_values = np.unique(data[list_of_features[i]], return_counts=True)[1]\n",
    "            total_values = sum(count_values)\n",
    "            information = 0\n",
    "            split_info = 0\n",
    "            #print(list_of_possible_values)\n",
    "            #print(count_values)\n",
    "            for j in range(len(list_of_possible_values)):\n",
    "                information_label = 0\n",
    "                for k in range(len(list_of_labels)):\n",
    "                    denominator = len(data[(data[list_of_features[i]] == list_of_possible_values[j]) & (data[list(data)[-1]] == list_of_labels[k])])          \n",
    "                    if denominator == 0:\n",
    "                        continue\n",
    "                    information_label = information_label + (- denominator / count_values[j]) * math.log2(denominator / count_values[j])\n",
    "                information = information + information_label * (count_values[j]/total_values)\n",
    "                split_info = split_info +  -(count_values[j]/total_values) * math.log2(count_values[j]/total_values)\n",
    "\n",
    "            information_gain = entropy - information\n",
    "            #split_info = 1\n",
    "            gain_ratio = information_gain / split_info\n",
    "            #print('Feature', i, ':', information_gain, split_info, gain_ratio)\n",
    "            if gain_ratio > mx_gain_ratio:\n",
    "                mx_gain_ratio = gain_ratio\n",
    "                mx_idx = i\n",
    "\n",
    "            #print('Feature', i, ':', information)\n",
    "            #print('Feature', i, ':', information_gain)\n",
    "\n",
    "        return mx_idx\n",
    "    def train(self, node, data):\n",
    "        list_of_features = list(data)\n",
    "        list_of_labels = np.unique(data[list_of_features[-1]], return_counts=True)[0]\n",
    "        list_of_labels_count = np.unique(data[list_of_features[-1]], return_counts=True)[1]\n",
    "        if len(list_of_labels) == 1:\n",
    "            self.node_identity[node] = list_of_labels[0]\n",
    "            return\n",
    "        majority_idx = np.argmax(list_of_labels_count)\n",
    "        self.mx_identity[node] = list_of_labels[majority_idx]\n",
    "        if len(list(data)) == 1:\n",
    "            majority_idx = np.argmax(list_of_labels_count)\n",
    "            self.node_identity[node] = list_of_labels[majority_idx] \n",
    "            return\n",
    "\n",
    "        mx_idx = self.select_feature(data)\n",
    "        #print(node, mx_idx)\n",
    "        remaining_features = list_of_features[0:mx_idx] + list_of_features[mx_idx+1: ]\n",
    "        #print('Selected feature:', mx_idx)\n",
    "        #print('Remaining_features:', remaining_features)\n",
    "        list_of_possible_values = np.unique(data[list_of_features[mx_idx]])\n",
    "        self.node_edge[node] = list_of_features[mx_idx]\n",
    "        self.node_edge_dict[node] = {}    \n",
    "        for label in list_of_possible_values:\n",
    "            new_data_frame = data[data[list_of_features[mx_idx]] == label][remaining_features]\n",
    "            if len(new_data_frame) == 0:\n",
    "                continue\n",
    "            new_node = self.number_of_nodes\n",
    "            self.node_edge_dict[node][label] = new_node\n",
    "            self.node_identity.append(-1)\n",
    "            self.node_edge.append(-1)\n",
    "            self.node_edge_dict.append(-1)\n",
    "            self.mx_identity.append(-1)\n",
    "            self.number_of_nodes += 1\n",
    "            self.train(new_node, new_data_frame)\n",
    "        return \n",
    "    def predict(self, data):\n",
    "        cur_node = 0\n",
    "        while self.node_identity[cur_node] == -1:\n",
    "            try:\n",
    "                cur_node = self.node_edge_dict[cur_node][data[self.node_edge[cur_node]].values[0]]\n",
    "            except:\n",
    "                return self.mx_identity[cur_node]\n",
    "        return self.node_identity[cur_node]\n",
    "    def test(self, test):\n",
    "        right_predictions = 0\n",
    "        y_true = []\n",
    "        y_pred = []\n",
    "        for i in range(len(test)):\n",
    "            y_pred.append(self.predict(test[i:i+1]))\n",
    "            y_true.append(test[i:i+1][list(test)[-1]].values[0])\n",
    "            if self.predict(test[i:i+1]) == test[i:i+1][list(test)[-1]].values[0]:\n",
    "                right_predictions+=1\n",
    "        ret_dict = classification_report(y_true, y_pred, output_dict=True)\n",
    "        ret_dict['accuracy'] = round(right_predictions/len(test) * 100, 2)\n",
    "        return ret_dict"
   ]
  },
  {
   "cell_type": "code",
   "execution_count": 5,
   "metadata": {},
   "outputs": [],
   "source": [
    "def cross_validation(dataframe):\n",
    "    important_classifier = DecisionTreeClassifier()\n",
    "    accuracies = []\n",
    "    data_in_a_single_fold = int(np.ceil(max(10, len(dataframe)/10)))\n",
    "    #data_in_a_single_fold = int(np.ceil(.1*len(dataframe)))\n",
    "    number_of_folds = int(np.ceil(len(dataframe)/data_in_a_single_fold))\n",
    "    print('Number of folds:', number_of_folds)\n",
    "    print('Number of rows in a single fold:', data_in_a_single_fold)\n",
    "    for i in range(number_of_folds):\n",
    "        #print(min((i)*data_in_a_single_fold, len(dataframe)), 'bal')\n",
    "        a = dataframe.iloc[0 : min((i)*data_in_a_single_fold, len(dataframe))]\n",
    "\n",
    "        #print('min', min((i+1) * data_in_a_single_fold, len(dataframe)))\n",
    "        b = dataframe.iloc[min((i+1) * data_in_a_single_fold, len(dataframe)) :  len(dataframe)]\n",
    "        #print(b.head())\n",
    "        train = pd.concat([a, b]).reset_index().drop(columns = 'index')\n",
    "        b.reset_index().drop(columns = 'index')\n",
    "        \n",
    "        test = dataframe.iloc[i * data_in_a_single_fold : min((i+1)*data_in_a_single_fold, len(dataframe))].reset_index().drop(columns = 'index')\n",
    "        print('Number of training samples:', len(train))\n",
    "        print('Number of test samples:', len(test))\n",
    "        print('Labels:', np.unique(train[list(dataframe)[-1]]))\n",
    "        important_classifier.train(0, train)    \n",
    "        accuracies.append(important_classifier.test(test))\n",
    "    return accuracies"
   ]
  },
  {
   "cell_type": "code",
   "execution_count": 6,
   "metadata": {},
   "outputs": [
    {
     "name": "stdout",
     "output_type": "stream",
     "text": [
      "Number of folds: 10\n",
      "Number of rows in a single fold: 19\n",
      "Number of training samples: 168\n",
      "Number of test samples: 19\n",
      "Labels: [0 1]\n"
     ]
    },
    {
     "name": "stderr",
     "output_type": "stream",
     "text": [
      "/home/immuntasir/.local/lib/python3.6/site-packages/ipykernel_launcher.py:45: RuntimeWarning: invalid value encountered in double_scalars\n",
      "/home/immuntasir/.local/lib/python3.6/site-packages/sklearn/metrics/classification.py:1145: UndefinedMetricWarning: Recall and F-score are ill-defined and being set to 0.0 in labels with no true samples.\n",
      "  'recall', 'true', average, warn_for)\n"
     ]
    },
    {
     "name": "stdout",
     "output_type": "stream",
     "text": [
      "Number of training samples: 168\n",
      "Number of test samples: 19\n",
      "Labels: [0 1]\n",
      "Number of training samples: 168\n",
      "Number of test samples: 19\n",
      "Labels: [0 1]\n",
      "Number of training samples: 168\n",
      "Number of test samples: 19\n",
      "Labels: [0 1]\n",
      "Number of training samples: 168\n",
      "Number of test samples: 19\n",
      "Labels: [0 1]\n",
      "Number of training samples: 168\n",
      "Number of test samples: 19\n",
      "Labels: [0 1]\n",
      "Number of training samples: 168\n",
      "Number of test samples: 19\n",
      "Labels: [0 1]\n",
      "Number of training samples: 168\n",
      "Number of test samples: 19\n",
      "Labels: [0 1]\n",
      "Number of training samples: 168\n",
      "Number of test samples: 19\n",
      "Labels: [0 1]\n",
      "Number of training samples: 171\n",
      "Number of test samples: 16\n",
      "Labels: [0 1]\n"
     ]
    }
   ],
   "source": [
    "dataframe = pd.read_csv(dataset, header=None)\n",
    "dataframe = dataframe.sample(frac=1)\n",
    "accuracies = cross_validation(dataframe)\n",
    "#print('Accuracies:', accuracies)\n",
    "#print('Average accuracy:', round(np.mean(accuracies), 2))"
   ]
  },
  {
   "cell_type": "code",
   "execution_count": 7,
   "metadata": {},
   "outputs": [
    {
     "name": "stdout",
     "output_type": "stream",
     "text": [
      "89.47\n",
      "84.21\n",
      "89.47\n",
      "78.95\n",
      "100.0\n",
      "78.95\n",
      "94.74\n",
      "94.74\n",
      "94.74\n",
      "100.0\n"
     ]
    }
   ],
   "source": [
    "avg_wei = {'recall':0, 'f1-score':0, 'precision':0, 'support':0}\n",
    "avg_acc = 0\n",
    "n = 0\n",
    "for accu in accuracies:\n",
    "    for key in avg_wei.keys():\n",
    "        avg_wei[key] += accu['weighted avg'][key]\n",
    "    avg_acc += accu['accuracy']\n",
    "    n += 1\n",
    "    print(accu['accuracy'])\n",
    "    \n",
    "for key in avg_wei.keys():\n",
    "    avg_wei[key] /= n\n",
    "    avg_wei[key] = round(avg_wei[key], 2)\n",
    "avg_acc /= n\n",
    "avg_acc = round(avg_acc, 2)"
   ]
  },
  {
   "cell_type": "code",
   "execution_count": 9,
   "metadata": {},
   "outputs": [
    {
     "name": "stdout",
     "output_type": "stream",
     "text": [
      "90.53\n",
      "0.94\n",
      "0.91\n",
      "0.92\n"
     ]
    }
   ],
   "source": [
    "print(avg_acc)\n",
    "print(avg_wei['precision'])\n",
    "print(avg_wei['recall'])\n",
    "print(avg_wei['f1-score'])\n",
    "\n"
   ]
  },
  {
   "cell_type": "markdown",
   "metadata": {},
   "source": [
    "Car Dataset: 93.06%\n",
    "Balance Sheet: 26.98%\n",
    "Hayes-Roth: 50.0%\n",
    "Heart Data: 89.47%\n",
    "TicTacToe: 85.42%"
   ]
  },
  {
   "cell_type": "code",
   "execution_count": null,
   "metadata": {},
   "outputs": [],
   "source": []
  }
 ],
 "metadata": {
  "kernelspec": {
   "display_name": "Python 3",
   "language": "python",
   "name": "python3"
  },
  "language_info": {
   "codemirror_mode": {
    "name": "ipython",
    "version": 3
   },
   "file_extension": ".py",
   "mimetype": "text/x-python",
   "name": "python",
   "nbconvert_exporter": "python",
   "pygments_lexer": "ipython3",
   "version": "3.6.6"
  }
 },
 "nbformat": 4,
 "nbformat_minor": 2
}
