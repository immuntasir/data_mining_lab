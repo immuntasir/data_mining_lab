{
 "cells": [
  {
   "cell_type": "code",
   "execution_count": 20,
   "metadata": {},
   "outputs": [],
   "source": [
    "import pandas as pd\n",
    "import numpy as np\n",
    "import math\n",
    "from sklearn.model_selection import train_test_split\n",
    "import matplotlib.pyplot as plt\n",
    "import matplotlib as mlt"
   ]
  },
  {
   "cell_type": "code",
   "execution_count": 2,
   "metadata": {},
   "outputs": [],
   "source": [
    "dataset = '../Dataset/kmeans/dataset.csv'\n",
    "np.random.seed(2)\n",
    "dataframe = pd.read_csv(dataset, header=None)\n",
    "#dataframe = dataframe.sample(frac=1)"
   ]
  },
  {
   "cell_type": "code",
   "execution_count": 3,
   "metadata": {},
   "outputs": [
    {
     "data": {
      "text/html": [
       "<div>\n",
       "<style scoped>\n",
       "    .dataframe tbody tr th:only-of-type {\n",
       "        vertical-align: middle;\n",
       "    }\n",
       "\n",
       "    .dataframe tbody tr th {\n",
       "        vertical-align: top;\n",
       "    }\n",
       "\n",
       "    .dataframe thead th {\n",
       "        text-align: right;\n",
       "    }\n",
       "</style>\n",
       "<table border=\"1\" class=\"dataframe\">\n",
       "  <thead>\n",
       "    <tr style=\"text-align: right;\">\n",
       "      <th></th>\n",
       "      <th>0</th>\n",
       "      <th>1</th>\n",
       "    </tr>\n",
       "  </thead>\n",
       "  <tbody>\n",
       "    <tr>\n",
       "      <th>0</th>\n",
       "      <td>2</td>\n",
       "      <td>10</td>\n",
       "    </tr>\n",
       "    <tr>\n",
       "      <th>1</th>\n",
       "      <td>2</td>\n",
       "      <td>5</td>\n",
       "    </tr>\n",
       "    <tr>\n",
       "      <th>2</th>\n",
       "      <td>8</td>\n",
       "      <td>4</td>\n",
       "    </tr>\n",
       "    <tr>\n",
       "      <th>3</th>\n",
       "      <td>5</td>\n",
       "      <td>8</td>\n",
       "    </tr>\n",
       "    <tr>\n",
       "      <th>4</th>\n",
       "      <td>7</td>\n",
       "      <td>5</td>\n",
       "    </tr>\n",
       "    <tr>\n",
       "      <th>5</th>\n",
       "      <td>6</td>\n",
       "      <td>4</td>\n",
       "    </tr>\n",
       "    <tr>\n",
       "      <th>6</th>\n",
       "      <td>1</td>\n",
       "      <td>2</td>\n",
       "    </tr>\n",
       "    <tr>\n",
       "      <th>7</th>\n",
       "      <td>4</td>\n",
       "      <td>9</td>\n",
       "    </tr>\n",
       "  </tbody>\n",
       "</table>\n",
       "</div>"
      ],
      "text/plain": [
       "   0   1\n",
       "0  2  10\n",
       "1  2   5\n",
       "2  8   4\n",
       "3  5   8\n",
       "4  7   5\n",
       "5  6   4\n",
       "6  1   2\n",
       "7  4   9"
      ]
     },
     "execution_count": 3,
     "metadata": {},
     "output_type": "execute_result"
    }
   ],
   "source": [
    "dataframe"
   ]
  },
  {
   "cell_type": "code",
   "execution_count": 4,
   "metadata": {},
   "outputs": [],
   "source": [
    "NUMBER_OF_CENTROIDS = 3"
   ]
  },
  {
   "cell_type": "code",
   "execution_count": 5,
   "metadata": {},
   "outputs": [],
   "source": [
    "def distance(x, y):\n",
    "    ret = 0\n",
    "    for i in range(len(x)):\n",
    "        ret = ret + (x[i]-y[i])**2\n",
    "    return ret"
   ]
  },
  {
   "cell_type": "code",
   "execution_count": 6,
   "metadata": {},
   "outputs": [
    {
     "name": "stdout",
     "output_type": "stream",
     "text": [
      "Primary centroids: [[ 2. 10.]\n",
      " [ 5.  8.]\n",
      " [ 1.  2.]]\n",
      "[0. 0. 0. 0. 0. 0. 0. 0.]\n",
      "[[ 2. 10.]\n",
      " [ 5.  8.]\n",
      " [ 1.  2.]]\n",
      "here too\n",
      "here too\n",
      "here too\n",
      "here too\n",
      "here too\n",
      "here too\n",
      "here too\n",
      "[0. 2. 1. 1. 1. 1. 2. 1.]\n",
      "[[ 2.  10. ]\n",
      " [ 6.   6. ]\n",
      " [ 1.5  3.5]]\n",
      "here too\n",
      "[0. 2. 1. 1. 1. 1. 2. 0.]\n",
      "[[3.   9.5 ]\n",
      " [6.5  5.25]\n",
      " [1.5  3.5 ]]\n",
      "here too\n",
      "[0. 2. 1. 0. 1. 1. 2. 0.]\n",
      "[[3.66666667 9.        ]\n",
      " [7.         4.33333333]\n",
      " [1.5        3.5       ]]\n"
     ]
    }
   ],
   "source": [
    "flag = True\n",
    "labels = np.zeros(len(dataframe))\n",
    "centroids_idx = np.arange(len(dataframe))\n",
    "np.random.shuffle(centroids_idx)\n",
    "centroids_idx = centroids_idx[:NUMBER_OF_CENTROIDS]\n",
    "centroids_idx[0] = 0\n",
    "centroids_idx[1] = 3\n",
    "centroids_idx[2] = 6\n",
    "centroids = np.zeros((NUMBER_OF_CENTROIDS, dataframe.shape[1]))\n",
    "for i in range(len(centroids_idx)):\n",
    "    centroids[i] = dataframe.iloc[centroids_idx[i]].values\n",
    "print('Primary centroids:', centroids)\n",
    "while flag == True:\n",
    "    flag = False\n",
    "    print(labels)\n",
    "    print(centroids)\n",
    "    for i in range(len(dataframe)):\n",
    "        best_centroid = -1\n",
    "        for centroid_itr in range(NUMBER_OF_CENTROIDS):\n",
    "            dis = distance(centroids[centroid_itr], dataframe.iloc[i].values)\n",
    "            if best_centroid == -1:\n",
    "                best_centroid = centroid_itr\n",
    "                min_dis = dis\n",
    "            elif dis < min_dis:\n",
    "                best_centroid = centroid_itr\n",
    "                min_dis = dis\n",
    "        if best_centroid != labels[i]:\n",
    "            print('here too')\n",
    "            labels[i] = best_centroid\n",
    "            flag = True\n",
    "        pass\n",
    "    for centroid_itr in range(NUMBER_OF_CENTROIDS):\n",
    "        indices = np.where(labels == centroid_itr)[0]\n",
    "        centroids[centroid_itr] = np.mean(dataframe.iloc[indices].values, axis = 0)\n",
    "        "
   ]
  },
  {
   "cell_type": "code",
   "execution_count": 7,
   "metadata": {},
   "outputs": [
    {
     "name": "stdout",
     "output_type": "stream",
     "text": [
      "[[3.66666667 9.        ]\n",
      " [7.         4.33333333]\n",
      " [1.5        3.5       ]]\n",
      "[0. 2. 1. 0. 1. 1. 2. 0.]\n"
     ]
    }
   ],
   "source": [
    "print(centroids)\n",
    "print(labels)"
   ]
  },
  {
   "cell_type": "code",
   "execution_count": 8,
   "metadata": {},
   "outputs": [
    {
     "data": {
      "text/plain": [
       "array([0, 1, 2, 3, 4, 5, 6, 7])"
      ]
     },
     "execution_count": 8,
     "metadata": {},
     "output_type": "execute_result"
    }
   ],
   "source": [
    "np.arange(len(dataframe))"
   ]
  },
  {
   "cell_type": "code",
   "execution_count": 9,
   "metadata": {},
   "outputs": [
    {
     "data": {
      "text/plain": [
       "array([ 2, 10])"
      ]
     },
     "execution_count": 9,
     "metadata": {},
     "output_type": "execute_result"
    }
   ],
   "source": [
    "dataframe.iloc[0].values"
   ]
  },
  {
   "cell_type": "code",
   "execution_count": 10,
   "metadata": {},
   "outputs": [
    {
     "data": {
      "text/plain": [
       "3"
      ]
     },
     "execution_count": 10,
     "metadata": {},
     "output_type": "execute_result"
    }
   ],
   "source": [
    "len(centroids)"
   ]
  },
  {
   "cell_type": "code",
   "execution_count": 11,
   "metadata": {},
   "outputs": [
    {
     "name": "stdout",
     "output_type": "stream",
     "text": [
      "[0. 2. 1. 0. 1. 1. 2. 0.]\n"
     ]
    }
   ],
   "source": [
    "print(labels)"
   ]
  },
  {
   "cell_type": "code",
   "execution_count": 12,
   "metadata": {},
   "outputs": [
    {
     "data": {
      "text/plain": [
       "()"
      ]
     },
     "execution_count": 12,
     "metadata": {},
     "output_type": "execute_result"
    }
   ],
   "source": [
    "np.shape(1)"
   ]
  },
  {
   "cell_type": "code",
   "execution_count": 13,
   "metadata": {},
   "outputs": [
    {
     "data": {
      "text/plain": [
       "array([[0., 0., 0., 0., 0.],\n",
       "       [0., 0., 0., 0., 0.],\n",
       "       [0., 0., 0., 0., 0.],\n",
       "       [0., 0., 0., 0., 0.],\n",
       "       [0., 0., 0., 0., 0.]])"
      ]
     },
     "execution_count": 13,
     "metadata": {},
     "output_type": "execute_result"
    }
   ],
   "source": [
    "np. zeros((5, 5))"
   ]
  },
  {
   "cell_type": "code",
   "execution_count": null,
   "metadata": {},
   "outputs": [],
   "source": []
  },
  {
   "cell_type": "code",
   "execution_count": 14,
   "metadata": {},
   "outputs": [
    {
     "data": {
      "text/plain": [
       "array([0., 2., 1., 0., 1., 1., 2., 0.])"
      ]
     },
     "execution_count": 14,
     "metadata": {},
     "output_type": "execute_result"
    }
   ],
   "source": [
    "labels"
   ]
  },
  {
   "cell_type": "code",
   "execution_count": 15,
   "metadata": {},
   "outputs": [],
   "source": [
    "indices = np.where(labels == 0)[0]"
   ]
  },
  {
   "cell_type": "code",
   "execution_count": 16,
   "metadata": {},
   "outputs": [
    {
     "data": {
      "text/plain": [
       "array([0, 3, 7])"
      ]
     },
     "execution_count": 16,
     "metadata": {},
     "output_type": "execute_result"
    }
   ],
   "source": [
    "indices"
   ]
  },
  {
   "cell_type": "code",
   "execution_count": null,
   "metadata": {},
   "outputs": [],
   "source": []
  },
  {
   "cell_type": "code",
   "execution_count": 26,
   "metadata": {},
   "outputs": [
    {
     "data": {
      "image/png": "[encoded data removed]",
      "text/plain": [
       "<Figure size 576x576 with 1 Axes>"
      ]
     },
     "metadata": {
      "needs_background": "light"
     },
     "output_type": "display_data"
    }
   ],
   "source": [
    "colors = ['red','green','blue','purple']\n",
    "\n",
    "fig = plt.figure(figsize=(8,8))\n",
    "plt.scatter(dataframe[:][0].values, dataframe[:][1].values, c=labels, cmap=mlt.colors.ListedColormap(colors))\n",
    "\n",
    "#cb = plt.colorbar()\n",
    "loc = np.arange(0,max(labels),max(labels)/float(len(colors)))\n",
    "#cb.set_ticks(loc)\n",
    "#cb.set_ticklabels(colors)"
   ]
  },
  {
   "cell_type": "code",
   "execution_count": 19,
   "metadata": {},
   "outputs": [
    {
     "data": {
      "text/plain": [
       "array([2, 2, 8, 5, 7, 6, 1, 4])"
      ]
     },
     "execution_count": 19,
     "metadata": {},
     "output_type": "execute_result"
    }
   ],
   "source": []
  },
  {
   "cell_type": "code",
   "execution_count": null,
   "metadata": {},
   "outputs": [],
   "source": []
  }
 ],
 "metadata": {
  "kernelspec": {
   "display_name": "Python 3",
   "language": "python",
   "name": "python3"
  }
 },
 "nbformat": 4,
 "nbformat_minor": 2
}
