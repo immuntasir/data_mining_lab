{
 "cells": [
  {
   "cell_type": "code",
   "execution_count": 2,
   "metadata": {},
   "outputs": [],
   "source": [
    "import pandas as pd\n",
    "import numpy as np\n",
    "import math\n",
    "from sklearn.model_selection import train_test_split"
   ]
  },
  {
   "cell_type": "code",
   "execution_count": 3,
   "metadata": {},
   "outputs": [],
   "source": [
    "#dataset = '../Dataset/Car/car'\n",
    "#dataset = '../Dataset/Balance-sheet/train.txt'\n",
    "#dataset = '../Dataset/Hayes-Roth/Hayes-Roth'\n",
    "#dataset = '../Dataset/Heart-Data/train.txt'\n",
    "dataset = '../Dataset/TicTacToe/tic tac toe'\n",
    "DATASET_SPLIT_RATIO = .1\n",
    "np.random.seed(2)"
   ]
  },
  {
   "cell_type": "code",
   "execution_count": 4,
   "metadata": {},
   "outputs": [],
   "source": [
    "dataframe = pd.read_csv(dataset, header=None)\n",
    "train, test = train_test_split(dataframe, test_size=DATASET_SPLIT_RATIO)\n",
    "list_of_features = list(dataframe)\n",
    "list_of_labels = np.unique(train[list_of_features[-1]], return_counts=True)[0]\n",
    "list_of_labels_count = np.unique(train[list_of_features[-1]], return_counts=True)[1]"
   ]
  },
  {
   "cell_type": "code",
   "execution_count": 5,
   "metadata": {
    "scrolled": true
   },
   "outputs": [
    {
     "name": "stdout",
     "output_type": "stream",
     "text": [
      "Number of training samples: 862\n",
      "Number of test samples: 96\n",
      "Labels: ['negative' 'positive']\n"
     ]
    }
   ],
   "source": [
    "train.head()\n",
    "print('Number of training samples:', len(train))\n",
    "print('Number of test samples:', len(test))\n",
    "print('Labels:', list_of_labels)"
   ]
  },
  {
   "cell_type": "code",
   "execution_count": 6,
   "metadata": {},
   "outputs": [],
   "source": [
    "def predict(data):\n",
    "    mx = -1000\n",
    "    mx_idx = -1\n",
    "    for label_itr in range(len(list_of_labels)):\n",
    "        probability = np.log(list_of_labels_count[label_itr]/len(train))\n",
    "        for i in range(len(list_of_features) - 1):\n",
    "            match = train[(train[i] == data[i]) & (train[list_of_features[-1]] == list_of_labels[label_itr])]\n",
    "            probability += np.log((len(match)/list_of_labels_count[label_itr]))\n",
    "        if mx_idx == -1 or probability > mx:\n",
    "            mx = probability\n",
    "            mx_idx = label_itr\n",
    "    return list_of_labels[mx_idx]"
   ]
  },
  {
   "cell_type": "code",
   "execution_count": 7,
   "metadata": {},
   "outputs": [],
   "source": [
    "right_predictions = 0\n",
    "for i in range(len(test)):\n",
    "    if predict(test[i:i+1].values[0]) == test[i:i+1][list(test)[-1]].values[0]:\n",
    "        right_predictions+=1"
   ]
  },
  {
   "cell_type": "code",
   "execution_count": 8,
   "metadata": {},
   "outputs": [
    {
     "name": "stdout",
     "output_type": "stream",
     "text": [
      "Accuacy: 68.75%\n"
     ]
    }
   ],
   "source": [
    "print('Accuacy:', str(  round(right_predictions/len(test) * 100, 2)) + '%' )"
   ]
  },
  {
   "cell_type": "markdown",
   "metadata": {},
   "source": [
    "Car: 83.82%\n",
    "Balance Sheet: 90.48%\n",
    "Hayes-Roth: 64.29%\n",
    "Heart Data: 84.21%\n",
    "TicTacToe: 68.75%"
   ]
  },
  {
   "cell_type": "code",
   "execution_count": 9,
   "metadata": {},
   "outputs": [
    {
     "data": {
      "text/html": [
       "<div>\n",
       "<style scoped>\n",
       "    .dataframe tbody tr th:only-of-type {\n",
       "        vertical-align: middle;\n",
       "    }\n",
       "\n",
       "    .dataframe tbody tr th {\n",
       "        vertical-align: top;\n",
       "    }\n",
       "\n",
       "    .dataframe thead th {\n",
       "        text-align: right;\n",
       "    }\n",
       "</style>\n",
       "<table border=\"1\" class=\"dataframe\">\n",
       "  <thead>\n",
       "    <tr style=\"text-align: right;\">\n",
       "      <th></th>\n",
       "      <th>0</th>\n",
       "      <th>1</th>\n",
       "      <th>2</th>\n",
       "      <th>3</th>\n",
       "      <th>4</th>\n",
       "      <th>5</th>\n",
       "      <th>6</th>\n",
       "      <th>7</th>\n",
       "      <th>8</th>\n",
       "      <th>9</th>\n",
       "    </tr>\n",
       "  </thead>\n",
       "  <tbody>\n",
       "    <tr>\n",
       "      <th>665</th>\n",
       "      <td>x</td>\n",
       "      <td>x</td>\n",
       "      <td>b</td>\n",
       "      <td>o</td>\n",
       "      <td>o</td>\n",
       "      <td>o</td>\n",
       "      <td>x</td>\n",
       "      <td>o</td>\n",
       "      <td>x</td>\n",
       "      <td>negative</td>\n",
       "    </tr>\n",
       "  </tbody>\n",
       "</table>\n",
       "</div>"
      ],
      "text/plain": [
       "     0  1  2  3  4  5  6  7  8         9\n",
       "665  x  x  b  o  o  o  x  o  x  negative"
      ]
     },
     "execution_count": 9,
     "metadata": {},
     "output_type": "execute_result"
    }
   ],
   "source": [
    "test[0:1]"
   ]
  },
  {
   "cell_type": "code",
   "execution_count": 39,
   "metadata": {},
   "outputs": [],
   "source": [
    "unique_values = []\n",
    "for i in range(len(list_of_features) - 1):\n",
    "    unique_values.append(len(np.unique(dataframe[i])))"
   ]
  },
  {
   "cell_type": "code",
   "execution_count": 40,
   "metadata": {},
   "outputs": [
    {
     "data": {
      "text/plain": [
       "[0, 0, 0, 0, 0, 0, 0, 0, 0]"
      ]
     },
     "execution_count": 40,
     "metadata": {},
     "output_type": "execute_result"
    }
   ],
   "source": [
    "unique_values"
   ]
  },
  {
   "cell_type": "code",
   "execution_count": 41,
   "metadata": {},
   "outputs": [
    {
     "data": {
      "text/plain": [
       "[0, 1, 2, 3, 4, 5, 6, 7, 8, 9]"
      ]
     },
     "execution_count": 41,
     "metadata": {},
     "output_type": "execute_result"
    }
   ],
   "source": [
    "list_of_features"
   ]
  },
  {
   "cell_type": "code",
   "execution_count": 46,
   "metadata": {},
   "outputs": [
    {
     "data": {
      "text/plain": [
       "3"
      ]
     },
     "execution_count": 46,
     "metadata": {},
     "output_type": "execute_result"
    }
   ],
   "source": []
  },
  {
   "cell_type": "code",
   "execution_count": null,
   "metadata": {},
   "outputs": [],
   "source": []
  }
 ],
 "metadata": {
  "kernelspec": {
   "display_name": "Python 3",
   "language": "python",
   "name": "python3"
  },
  "language_info": {
   "codemirror_mode": {
    "name": "ipython",
    "version": 3
   },
   "file_extension": ".py",
   "mimetype": "text/x-python",
   "name": "python",
   "nbconvert_exporter": "python",
   "pygments_lexer": "ipython3",
   "version": "3.6.6"
  }
 },
 "nbformat": 4,
 "nbformat_minor": 2
}
